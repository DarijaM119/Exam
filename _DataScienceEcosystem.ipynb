{
 "cells": [
  {
   "cell_type": "markdown",
   "id": "b8ec5ea5",
   "metadata": {},
   "source": [
    "# Data Science Tools and Ecosystem "
   ]
  },
  {
   "cell_type": "markdown",
   "id": "a794b5ca",
   "metadata": {},
   "source": [
    "In this notebook, Data Science Tools and Ecosystem are summarized."
   ]
  },
  {
   "cell_type": "markdown",
   "id": "48fe4b30",
   "metadata": {},
   "source": [
    "__Objectives:__\n",
    "- List popular languages for Data Science\n",
    "- List commonly used libraries used by Data Scientists \n",
    "- List some Data Science Tools"
   ]
  },
  {
   "cell_type": "markdown",
   "id": "fed62e9e",
   "metadata": {},
   "source": [
    "Some of the popular languages that Data Scientists use are:\n",
    "1. Python\n",
    "2. R\n",
    "3. SQL\n",
    "4. Java\n",
    "5. Julia\n",
    "6. Scala\n",
    "7. C/C++\n",
    "8. JavaScript\n",
    "9. Swift\n",
    "10. Go\n",
    "11. MATLAB\n",
    "12. SAS"
   ]
  },
  {
   "cell_type": "markdown",
   "id": "c6dfe005",
   "metadata": {},
   "source": [
    "Some of the commonly used libraries used by Data Scientists include:\n",
    "1. TensorFlow\n",
    "2. NumPy\n",
    "3. SciPy \n",
    "4. Pandas\n",
    "5. Matplotlib \n",
    "6. Keras\n",
    "7. SciKit-Learn\n",
    "8. PyTorch\n",
    "9. Scrapy\n",
    "10. BeautifulSoup\n",
    "11. LightGBM\n",
    "12. ELI5\n",
    "13. Theano\n",
    "14. NuPIC\n",
    "15. Ramp\n",
    "16. Pipenv\n",
    "17. Bob\n",
    "18. PyBrain\n",
    "19. Caffe2\n",
    "20. Chainer"
   ]
  },
  {
   "cell_type": "markdown",
   "id": "f3558840",
   "metadata": {},
   "source": [
    "| Data Science Tools |\n",
    "|--------|\n",
    "| Jupyter Notebooks|\n",
    "| Zeppelin Notebooks|\n",
    "| R Studio’s |"
   ]
  },
  {
   "cell_type": "markdown",
   "id": "200dee9d",
   "metadata": {},
   "source": [
    "### Below are a few examples of evaluating arithmetic expressions in Python:"
   ]
  },
  {
   "cell_type": "code",
   "execution_count": 1,
   "id": "903bb66a",
   "metadata": {},
   "outputs": [
    {
     "data": {
      "text/plain": [
       "17"
      ]
     },
     "execution_count": 1,
     "metadata": {},
     "output_type": "execute_result"
    }
   ],
   "source": [
    "#This a simple arithmetic expression to mutiply then add integers.\n",
    "(3*4)+5"
   ]
  },
  {
   "cell_type": "code",
   "execution_count": 2,
   "id": "ebc8c0d6",
   "metadata": {},
   "outputs": [
    {
     "name": "stdout",
     "output_type": "stream",
     "text": [
      "3.3333333333333335\n"
     ]
    }
   ],
   "source": [
    "#This will convert 200 minutes to hours by diving by 60\n",
    "minutes = 200\n",
    "hours = minutes/60\n",
    "print(hours)"
   ]
  },
  {
   "cell_type": "markdown",
   "id": "d4cf61bc",
   "metadata": {},
   "source": [
    "## Author\n",
    "Darija"
   ]
  },
  {
   "cell_type": "code",
   "execution_count": null,
   "id": "b799dc4c",
   "metadata": {},
   "outputs": [],
   "source": []
  }
 ],
 "metadata": {
  "kernelspec": {
   "display_name": "Python 3 (ipykernel)",
   "language": "python",
   "name": "python3"
  },
  "language_info": {
   "codemirror_mode": {
    "name": "ipython",
    "version": 3
   },
   "file_extension": ".py",
   "mimetype": "text/x-python",
   "name": "python",
   "nbconvert_exporter": "python",
   "pygments_lexer": "ipython3",
   "version": "3.7.1"
  }
 },
 "nbformat": 4,
 "nbformat_minor": 5
}
